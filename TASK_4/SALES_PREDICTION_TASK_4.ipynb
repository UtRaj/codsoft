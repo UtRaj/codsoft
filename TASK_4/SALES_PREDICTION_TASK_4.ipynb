{
  "nbformat": 4,
  "nbformat_minor": 0,
  "metadata": {
    "colab": {
      "provenance": []
    },
    "kernelspec": {
      "name": "python3",
      "display_name": "Python 3"
    },
    "language_info": {
      "name": "python"
    }
  },
  "cells": [
    {
      "cell_type": "markdown",
      "source": [
        "### **1. Importing Libraries**"
      ],
      "metadata": {
        "id": "KhXC-CjwXaO5"
      }
    },
    {
      "cell_type": "code",
      "execution_count": 1,
      "metadata": {
        "id": "qPRBOpxmq_qP"
      },
      "outputs": [],
      "source": [
        "import numpy as np\n",
        "import pandas as pd\n",
        "import matplotlib.pyplot as plt\n",
        "import seaborn as sns\n",
        "from sklearn.model_selection import train_test_split, GridSearchCV\n",
        "from sklearn.linear_model import LinearRegression\n",
        "from sklearn.linear_model import Ridge\n",
        "from sklearn.linear_model import Lasso\n",
        "from sklearn.linear_model import LinearRegression\n",
        "from sklearn.ensemble import RandomForestRegressor\n",
        "from sklearn.preprocessing import StandardScaler\n",
        "from sklearn import metrics\n",
        "from sklearn.metrics import r2_score"
      ]
    },
    {
      "cell_type": "code",
      "source": [
        "import warnings\n",
        "warnings.filterwarnings(\"ignore\")"
      ],
      "metadata": {
        "id": "RO10Dd4FG3GV"
      },
      "execution_count": 2,
      "outputs": []
    },
    {
      "cell_type": "markdown",
      "source": [
        "### **2. Loading Dataset**"
      ],
      "metadata": {
        "id": "heVTJVaTXe1K"
      }
    },
    {
      "cell_type": "code",
      "source": [
        "sales = pd.read_csv(\"/content/advertising.csv\")"
      ],
      "metadata": {
        "id": "t2veQSn8rYGF"
      },
      "execution_count": 3,
      "outputs": []
    },
    {
      "cell_type": "code",
      "source": [
        "sales.head()"
      ],
      "metadata": {
        "colab": {
          "base_uri": "https://localhost:8080/",
          "height": 206
        },
        "id": "R_a8QmIfrdxE",
        "outputId": "4ca29270-e212-4202-f579-6c497304710a"
      },
      "execution_count": 4,
      "outputs": [
        {
          "output_type": "execute_result",
          "data": {
            "text/plain": [
              "      TV  Radio  Newspaper  Sales\n",
              "0  230.1   37.8       69.2   22.1\n",
              "1   44.5   39.3       45.1   10.4\n",
              "2   17.2   45.9       69.3   12.0\n",
              "3  151.5   41.3       58.5   16.5\n",
              "4  180.8   10.8       58.4   17.9"
            ],
            "text/html": [
              "\n",
              "  <div id=\"df-7dbe7a89-8d47-43ff-b5b1-902b03dff849\" class=\"colab-df-container\">\n",
              "    <div>\n",
              "<style scoped>\n",
              "    .dataframe tbody tr th:only-of-type {\n",
              "        vertical-align: middle;\n",
              "    }\n",
              "\n",
              "    .dataframe tbody tr th {\n",
              "        vertical-align: top;\n",
              "    }\n",
              "\n",
              "    .dataframe thead th {\n",
              "        text-align: right;\n",
              "    }\n",
              "</style>\n",
              "<table border=\"1\" class=\"dataframe\">\n",
              "  <thead>\n",
              "    <tr style=\"text-align: right;\">\n",
              "      <th></th>\n",
              "      <th>TV</th>\n",
              "      <th>Radio</th>\n",
              "      <th>Newspaper</th>\n",
              "      <th>Sales</th>\n",
              "    </tr>\n",
              "  </thead>\n",
              "  <tbody>\n",
              "    <tr>\n",
              "      <th>0</th>\n",
              "      <td>230.1</td>\n",
              "      <td>37.8</td>\n",
              "      <td>69.2</td>\n",
              "      <td>22.1</td>\n",
              "    </tr>\n",
              "    <tr>\n",
              "      <th>1</th>\n",
              "      <td>44.5</td>\n",
              "      <td>39.3</td>\n",
              "      <td>45.1</td>\n",
              "      <td>10.4</td>\n",
              "    </tr>\n",
              "    <tr>\n",
              "      <th>2</th>\n",
              "      <td>17.2</td>\n",
              "      <td>45.9</td>\n",
              "      <td>69.3</td>\n",
              "      <td>12.0</td>\n",
              "    </tr>\n",
              "    <tr>\n",
              "      <th>3</th>\n",
              "      <td>151.5</td>\n",
              "      <td>41.3</td>\n",
              "      <td>58.5</td>\n",
              "      <td>16.5</td>\n",
              "    </tr>\n",
              "    <tr>\n",
              "      <th>4</th>\n",
              "      <td>180.8</td>\n",
              "      <td>10.8</td>\n",
              "      <td>58.4</td>\n",
              "      <td>17.9</td>\n",
              "    </tr>\n",
              "  </tbody>\n",
              "</table>\n",
              "</div>\n",
              "    <div class=\"colab-df-buttons\">\n",
              "\n",
              "  <div class=\"colab-df-container\">\n",
              "    <button class=\"colab-df-convert\" onclick=\"convertToInteractive('df-7dbe7a89-8d47-43ff-b5b1-902b03dff849')\"\n",
              "            title=\"Convert this dataframe to an interactive table.\"\n",
              "            style=\"display:none;\">\n",
              "\n",
              "  <svg xmlns=\"http://www.w3.org/2000/svg\" height=\"24px\" viewBox=\"0 -960 960 960\">\n",
              "    <path d=\"M120-120v-720h720v720H120Zm60-500h600v-160H180v160Zm220 220h160v-160H400v160Zm0 220h160v-160H400v160ZM180-400h160v-160H180v160Zm440 0h160v-160H620v160ZM180-180h160v-160H180v160Zm440 0h160v-160H620v160Z\"/>\n",
              "  </svg>\n",
              "    </button>\n",
              "\n",
              "  <style>\n",
              "    .colab-df-container {\n",
              "      display:flex;\n",
              "      gap: 12px;\n",
              "    }\n",
              "\n",
              "    .colab-df-convert {\n",
              "      background-color: #E8F0FE;\n",
              "      border: none;\n",
              "      border-radius: 50%;\n",
              "      cursor: pointer;\n",
              "      display: none;\n",
              "      fill: #1967D2;\n",
              "      height: 32px;\n",
              "      padding: 0 0 0 0;\n",
              "      width: 32px;\n",
              "    }\n",
              "\n",
              "    .colab-df-convert:hover {\n",
              "      background-color: #E2EBFA;\n",
              "      box-shadow: 0px 1px 2px rgba(60, 64, 67, 0.3), 0px 1px 3px 1px rgba(60, 64, 67, 0.15);\n",
              "      fill: #174EA6;\n",
              "    }\n",
              "\n",
              "    .colab-df-buttons div {\n",
              "      margin-bottom: 4px;\n",
              "    }\n",
              "\n",
              "    [theme=dark] .colab-df-convert {\n",
              "      background-color: #3B4455;\n",
              "      fill: #D2E3FC;\n",
              "    }\n",
              "\n",
              "    [theme=dark] .colab-df-convert:hover {\n",
              "      background-color: #434B5C;\n",
              "      box-shadow: 0px 1px 3px 1px rgba(0, 0, 0, 0.15);\n",
              "      filter: drop-shadow(0px 1px 2px rgba(0, 0, 0, 0.3));\n",
              "      fill: #FFFFFF;\n",
              "    }\n",
              "  </style>\n",
              "\n",
              "    <script>\n",
              "      const buttonEl =\n",
              "        document.querySelector('#df-7dbe7a89-8d47-43ff-b5b1-902b03dff849 button.colab-df-convert');\n",
              "      buttonEl.style.display =\n",
              "        google.colab.kernel.accessAllowed ? 'block' : 'none';\n",
              "\n",
              "      async function convertToInteractive(key) {\n",
              "        const element = document.querySelector('#df-7dbe7a89-8d47-43ff-b5b1-902b03dff849');\n",
              "        const dataTable =\n",
              "          await google.colab.kernel.invokeFunction('convertToInteractive',\n",
              "                                                    [key], {});\n",
              "        if (!dataTable) return;\n",
              "\n",
              "        const docLinkHtml = 'Like what you see? Visit the ' +\n",
              "          '<a target=\"_blank\" href=https://colab.research.google.com/notebooks/data_table.ipynb>data table notebook</a>'\n",
              "          + ' to learn more about interactive tables.';\n",
              "        element.innerHTML = '';\n",
              "        dataTable['output_type'] = 'display_data';\n",
              "        await google.colab.output.renderOutput(dataTable, element);\n",
              "        const docLink = document.createElement('div');\n",
              "        docLink.innerHTML = docLinkHtml;\n",
              "        element.appendChild(docLink);\n",
              "      }\n",
              "    </script>\n",
              "  </div>\n",
              "\n",
              "\n",
              "<div id=\"df-4947d171-895c-4a26-87a7-40ee58e08ef7\">\n",
              "  <button class=\"colab-df-quickchart\" onclick=\"quickchart('df-4947d171-895c-4a26-87a7-40ee58e08ef7')\"\n",
              "            title=\"Suggest charts.\"\n",
              "            style=\"display:none;\">\n",
              "\n",
              "<svg xmlns=\"http://www.w3.org/2000/svg\" height=\"24px\"viewBox=\"0 0 24 24\"\n",
              "     width=\"24px\">\n",
              "    <g>\n",
              "        <path d=\"M19 3H5c-1.1 0-2 .9-2 2v14c0 1.1.9 2 2 2h14c1.1 0 2-.9 2-2V5c0-1.1-.9-2-2-2zM9 17H7v-7h2v7zm4 0h-2V7h2v10zm4 0h-2v-4h2v4z\"/>\n",
              "    </g>\n",
              "</svg>\n",
              "  </button>\n",
              "\n",
              "<style>\n",
              "  .colab-df-quickchart {\n",
              "    background-color: #E8F0FE;\n",
              "    border: none;\n",
              "    border-radius: 50%;\n",
              "    cursor: pointer;\n",
              "    display: none;\n",
              "    fill: #1967D2;\n",
              "    height: 32px;\n",
              "    padding: 0 0 0 0;\n",
              "    width: 32px;\n",
              "  }\n",
              "\n",
              "  .colab-df-quickchart:hover {\n",
              "    background-color: #E2EBFA;\n",
              "    box-shadow: 0px 1px 2px rgba(60, 64, 67, 0.3), 0px 1px 3px 1px rgba(60, 64, 67, 0.15);\n",
              "    fill: #174EA6;\n",
              "  }\n",
              "\n",
              "  [theme=dark] .colab-df-quickchart {\n",
              "    background-color: #3B4455;\n",
              "    fill: #D2E3FC;\n",
              "  }\n",
              "\n",
              "  [theme=dark] .colab-df-quickchart:hover {\n",
              "    background-color: #434B5C;\n",
              "    box-shadow: 0px 1px 3px 1px rgba(0, 0, 0, 0.15);\n",
              "    filter: drop-shadow(0px 1px 2px rgba(0, 0, 0, 0.3));\n",
              "    fill: #FFFFFF;\n",
              "  }\n",
              "</style>\n",
              "\n",
              "  <script>\n",
              "    async function quickchart(key) {\n",
              "      const charts = await google.colab.kernel.invokeFunction(\n",
              "          'suggestCharts', [key], {});\n",
              "    }\n",
              "    (() => {\n",
              "      let quickchartButtonEl =\n",
              "        document.querySelector('#df-4947d171-895c-4a26-87a7-40ee58e08ef7 button');\n",
              "      quickchartButtonEl.style.display =\n",
              "        google.colab.kernel.accessAllowed ? 'block' : 'none';\n",
              "    })();\n",
              "  </script>\n",
              "</div>\n",
              "    </div>\n",
              "  </div>\n"
            ]
          },
          "metadata": {},
          "execution_count": 4
        }
      ]
    },
    {
      "cell_type": "code",
      "source": [
        "sales.shape"
      ],
      "metadata": {
        "colab": {
          "base_uri": "https://localhost:8080/"
        },
        "id": "qNPL2Z0nrfNQ",
        "outputId": "29c1ea6c-4492-4e8e-e611-19cc8728d716"
      },
      "execution_count": 5,
      "outputs": [
        {
          "output_type": "execute_result",
          "data": {
            "text/plain": [
              "(200, 4)"
            ]
          },
          "metadata": {},
          "execution_count": 5
        }
      ]
    },
    {
      "cell_type": "code",
      "source": [
        "sales.isnull().sum()"
      ],
      "metadata": {
        "colab": {
          "base_uri": "https://localhost:8080/"
        },
        "id": "-vtMclBqrgkM",
        "outputId": "7163e261-f9c0-4341-94a8-e35c27c3066f"
      },
      "execution_count": 6,
      "outputs": [
        {
          "output_type": "execute_result",
          "data": {
            "text/plain": [
              "TV           0\n",
              "Radio        0\n",
              "Newspaper    0\n",
              "Sales        0\n",
              "dtype: int64"
            ]
          },
          "metadata": {},
          "execution_count": 6
        }
      ]
    },
    {
      "cell_type": "markdown",
      "source": [
        "### **3. Exploratory Data Analysis**"
      ],
      "metadata": {
        "id": "EjUt8PGYYEhx"
      }
    },
    {
      "cell_type": "code",
      "source": [
        "correlation_matrix = sales.corr()\n",
        "\n",
        "plt.figure(figsize=(6, 4))\n",
        "sns.heatmap(correlation_matrix, annot=True, cmap='coolwarm', fmt=\".2f\")\n",
        "plt.title(\"Correlation Heatmap\")\n",
        "plt.show()"
      ],
      "metadata": {
        "colab": {
          "base_uri": "https://localhost:8080/",
          "height": 391
        },
        "id": "euwbNJ81XkE8",
        "outputId": "79c8d198-87fb-4b0f-82b6-8ade5e91801e"
      },
      "execution_count": 7,
      "outputs": [
        {
          "output_type": "display_data",
          "data": {
            "text/plain": [
              "<Figure size 600x400 with 2 Axes>"
            ],
            "image/png": "[encoded data removed]"
          },
          "metadata": {}
        }
      ]
    },
    {
      "cell_type": "code",
      "source": [
        "fig, axs = plt.subplots(4, figsize=(6,6))\n",
        "\n",
        "plt1 = sns.boxplot(sales['TV'], ax=axs[0], orient='h')\n",
        "plt2 = sns.boxplot(sales['Newspaper'], ax=axs[1], orient='h')\n",
        "plt3 = sns.boxplot(sales['Radio'], ax=axs[2], orient='h')\n",
        "plt4 = sns.boxplot(sales['Sales'], ax=axs[3], orient='h')\n",
        "\n",
        "axs[0].set_xlabel('TV')\n",
        "axs[1].set_xlabel('Newspaper')\n",
        "axs[2].set_xlabel('Radio')\n",
        "axs[3].set_xlabel('Sales')\n",
        "\n",
        "plt.tight_layout()\n",
        "\n",
        "plt.show()\n"
      ],
      "metadata": {
        "colab": {
          "base_uri": "https://localhost:8080/",
          "height": 607
        },
        "id": "S2uk-aK0B3O2",
        "outputId": "e0cb7f77-c87a-450e-baee-7182e2e22b99"
      },
      "execution_count": 8,
      "outputs": [
        {
          "output_type": "display_data",
          "data": {
            "text/plain": [
              "<Figure size 600x600 with 4 Axes>"
            ],
            "image/png": "[encoded data removed]"
          },
          "metadata": {}
        }
      ]
    },
    {
      "cell_type": "markdown",
      "source": [
        "### **4. Splitting for Training and Testing data**"
      ],
      "metadata": {
        "id": "UkIo1NnTDBq6"
      }
    },
    {
      "cell_type": "code",
      "source": [
        "X = sales.drop([\"Sales\"],axis=1)\n",
        "Y = sales[\"Sales\"]\n",
        "\n",
        "x_train,x_test,y_train,y_test = train_test_split(X,Y,test_size=0.2,random_state=1)"
      ],
      "metadata": {
        "id": "8HCHiB0grs3i"
      },
      "execution_count": 9,
      "outputs": []
    },
    {
      "cell_type": "markdown",
      "source": [
        "### **5. Model Training and Evaluation**"
      ],
      "metadata": {
        "id": "uSPIkz6IDR-S"
      }
    },
    {
      "cell_type": "code",
      "source": [
        "model = LinearRegression()\n",
        "model.fit(x_train,y_train)\n",
        "\n",
        "\n",
        "model_train = model.predict(x_train)\n",
        "model_train_acc = metrics.r2_score(model_train, y_train)\n",
        "print(\"Training Accuracy of Linear Regression Model:- \",model_train_acc)\n",
        "\n",
        "print(\"\\n\\n*************\\n\\n\")\n",
        "\n",
        "model_test = model.predict(x_test)\n",
        "model_test_acc = metrics.r2_score(model_test, y_test)\n",
        "print(\"Testing Accuracy of Linear Regression Model:- \",model_test_acc)"
      ],
      "metadata": {
        "colab": {
          "base_uri": "https://localhost:8080/"
        },
        "id": "8oGWmmXLri2O",
        "outputId": "03e2fbf2-7116-4b5f-bf11-9761c373d71a"
      },
      "execution_count": 10,
      "outputs": [
        {
          "output_type": "stream",
          "name": "stdout",
          "text": [
            "Training Accuracy of Linear Regression Model:-  0.8956211016375271\n",
            "\n",
            "\n",
            "*************\n",
            "\n",
            "\n",
            "Testing Accuracy of Linear Regression Model:-  0.8693026460890295\n"
          ]
        }
      ]
    },
    {
      "cell_type": "code",
      "source": [
        "ridge_model = Ridge(alpha=1.0)\n",
        "ridge_model.fit(x_train,y_train)\n",
        "\n",
        "\n",
        "ridge_model_train = ridge_model.predict(x_train)\n",
        "ridge_model_train_acc = metrics.r2_score(ridge_model_train, y_train)\n",
        "print(\"Training Accuracy of Ridge Regression Model:- \",ridge_model_train_acc)\n",
        "\n",
        "print(\"\\n\\n*************\\n\\n\")\n",
        "\n",
        "ridge_model_test = ridge_model.predict(x_test)\n",
        "ridge_model_test_acc = metrics.r2_score(ridge_model_test, y_test)\n",
        "print(\"Testing Accuracy of Ridge Regression Model:- \",ridge_model_test_acc)"
      ],
      "metadata": {
        "colab": {
          "base_uri": "https://localhost:8080/"
        },
        "id": "wpIiKjBqETB_",
        "outputId": "e61ab52e-957e-4000-941e-d5e57c1565e7"
      },
      "execution_count": 11,
      "outputs": [
        {
          "output_type": "stream",
          "name": "stdout",
          "text": [
            "Training Accuracy of Ridge Regression Model:-  0.8956204348331339\n",
            "\n",
            "\n",
            "*************\n",
            "\n",
            "\n",
            "Testing Accuracy of Ridge Regression Model:-  0.8693006994895629\n"
          ]
        }
      ]
    },
    {
      "cell_type": "code",
      "source": [
        "lasso_model = Lasso(alpha=1.0)\n",
        "lasso_model.fit(x_train,y_train)\n",
        "\n",
        "\n",
        "lasso_model_train = lasso_model.predict(x_train)\n",
        "lasso_model_train_acc = metrics.r2_score(lasso_model_train, y_train)\n",
        "print(\"Training Accuracy of Lasso Regression Model:- \",lasso_model_train_acc)\n",
        "\n",
        "print(\"\\n\\n*************\\n\\n\")\n",
        "\n",
        "lasso_model_test = lasso_model.predict(x_test)\n",
        "lasso_model_test_acc = metrics.r2_score(lasso_model_test, y_test)\n",
        "print(\"Testing Accuracy of Lasso Regression Model:- \",lasso_model_test_acc)"
      ],
      "metadata": {
        "colab": {
          "base_uri": "https://localhost:8080/"
        },
        "id": "MWh87P0TEtZ3",
        "outputId": "cc1148d2-e17b-4c5e-a395-6b3397db48e6"
      },
      "execution_count": 12,
      "outputs": [
        {
          "output_type": "stream",
          "name": "stdout",
          "text": [
            "Training Accuracy of Lasso Regression Model:-  0.8942150473983926\n",
            "\n",
            "\n",
            "*************\n",
            "\n",
            "\n",
            "Testing Accuracy of Lasso Regression Model:-  0.865878835489566\n"
          ]
        }
      ]
    },
    {
      "cell_type": "code",
      "source": [
        "regressor = RandomForestRegressor()\n",
        "regressor.fit(x_train,y_train)\n",
        "\n",
        "\n",
        "regressor_train = regressor.predict(x_train)\n",
        "regressor_train_acc = metrics.r2_score(regressor_train, y_train)\n",
        "print(\"Training Accuracy of Random Forest Regressor Model:- \",regressor_train_acc)\n",
        "\n",
        "print(\"\\n\\n*************\\n\\n\")\n",
        "\n",
        "regressor_test = regressor.predict(x_test)\n",
        "regressor_test_acc = metrics.r2_score(regressor_test, y_test)\n",
        "print(\"Testing Accuracy of Random Forest Regressor Model:- \",regressor_test_acc)"
      ],
      "metadata": {
        "colab": {
          "base_uri": "https://localhost:8080/"
        },
        "id": "ZO8KIjavFARB",
        "outputId": "828674f6-46d9-4c48-8ced-fb29a3d925a7"
      },
      "execution_count": 13,
      "outputs": [
        {
          "output_type": "stream",
          "name": "stdout",
          "text": [
            "Training Accuracy of Random Forest Regressor Model:-  0.9922056946952009\n",
            "\n",
            "\n",
            "*************\n",
            "\n",
            "\n",
            "Testing Accuracy of Random Forest Regressor Model:-  0.9525512384203283\n"
          ]
        }
      ]
    },
    {
      "cell_type": "markdown",
      "source": [
        "**We will be selecting Random Forest Regressor Model.**"
      ],
      "metadata": {
        "id": "pV_FlHpgFjnm"
      }
    },
    {
      "cell_type": "markdown",
      "source": [
        "### **6. Taking Input from User**"
      ],
      "metadata": {
        "id": "UTyz2dA8GOze"
      }
    },
    {
      "cell_type": "code",
      "source": [
        "## Taking input from the user and predicting the output\n",
        "\n",
        "TV = float(input(\"Enter Data for TV: \"))\n",
        "Radio = float(input(\"Enter Data for Radio: \"))\n",
        "Newspaper = float(input(\"Enter Data for Newspaper: \"))\n",
        "\n",
        "\n",
        "user_input = np.array([[TV,Radio,Newspaper]])\n",
        "\n",
        "advertise = regressor.predict(user_input)\n",
        "\n",
        "print(\"\\n\")\n",
        "\n",
        "print(\"Your Sales:- \",advertise[0])"
      ],
      "metadata": {
        "id": "qw6fEZkFtk7E",
        "colab": {
          "base_uri": "https://localhost:8080/"
        },
        "outputId": "144ce7ba-ecef-468e-a963-a354fce2bfab"
      },
      "execution_count": 15,
      "outputs": [
        {
          "output_type": "stream",
          "name": "stdout",
          "text": [
            "Enter Data for TV: 230.1\n",
            "Enter Data for Radio: 37.8\n",
            "Enter Data for Newspaper: 69.2\n",
            "\n",
            "\n",
            "Your Sales:-  22.037999999999975\n"
          ]
        }
      ]
    },
    {
      "cell_type": "code",
      "source": [],
      "metadata": {
        "id": "GmZi0TYiGvEs"
      },
      "execution_count": 14,
      "outputs": []
    }
  ]
}